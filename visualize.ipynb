{
 "cells": [
  {
   "cell_type": "code",
   "execution_count": 8,
   "id": "dbb13268",
   "metadata": {},
   "outputs": [],
   "source": [
    "from pathlib import Path\n",
    "from typing import Literal\n",
    "\n",
    "from ipywidgets import interact\n",
    "import matplotlib.pyplot as plt\n",
    "import torch"
   ]
  },
  {
   "cell_type": "code",
   "execution_count": 15,
   "id": "a72cf1d7",
   "metadata": {},
   "outputs": [],
   "source": [
    "PATH = Path(\"../fno_unet/runs/64x64_few/epoch-1.pt\")\n",
    "DATA = torch.load(PATH, map_location=\"cpu\")"
   ]
  },
  {
   "cell_type": "code",
   "execution_count": 50,
   "id": "d0ac39b9",
   "metadata": {},
   "outputs": [
    {
     "data": {
      "application/vnd.jupyter.widget-view+json": {
       "model_id": "901b2e53b9334013b0cbd57b053d9318",
       "version_major": 2,
       "version_minor": 0
      },
      "text/plain": [
       "interactive(children=(Dropdown(description='highlight_mode', options=('value', 'sign'), value='value'), Dropdo…"
      ]
     },
     "metadata": {},
     "output_type": "display_data"
    }
   ],
   "source": [
    "@interact(in_ch=(0, 512), out_ch=(0, 512), highlight_mode=[\"value\", \"sign\"], name=[x for x in DATA.keys() if DATA[x].ndim == 4])  # pyright: ignore [reportUntypedFunctionDecorator]\n",
    "def render(highlight_mode: Literal[\"value\", \"sign\"], name: str, in_ch: int = 0, out_ch: int = 0) -> None:\n",
    "    kernel = DATA[name][out_ch, in_ch]\n",
    "    plt.figure()\n",
    "    plt.subplot(111)\n",
    "    if highlight_mode == \"value\":\n",
    "        plt.imshow(kernel.numpy(), cmap=\"gray\")\n",
    "    elif highlight_mode == \"sign\":\n",
    "        plt.imshow(kernel.sign().numpy(), cmap=\"gray\")\n",
    "    norm_kernel = (kernel - kernel.min()) / (kernel.max() - kernel.min())\n",
    "    for y in range(kernel.shape[0]):\n",
    "        for x in range(kernel.shape[1]):\n",
    "            text_color = \"white\" if norm_kernel[y, x].item() <= 0.5 else \"black\"\n",
    "            plt.text(x, y, f\"{kernel[y, x]:.3f}\", horizontalalignment=\"center\", verticalalignment=\"center\", color=text_color, fontsize=8)\n",
    "    plt.gcf().canvas.draw()\n",
    "    plt.show()\n",
    "    print(f\"1. Kernel-Moment: {kernel.mean().item():.3f}\")\n",
    "    print(f\"2. Kernel-Moment: {kernel.var().item():.3f}\")\n",
    "    print()\n",
    "    print(\"1. Layer-Moment: \"+str(DATA[name].flatten(end_dim=1).mean(dim=0))[8:].replace(' '*8, ' '*17).translate(str.maketrans({'[': '', ']': '', ',': '', ')': ''})))\n",
    "    print(\"2. Layer-Moment: \"+str(DATA[name].flatten(end_dim=1).var(dim=0))[8:].replace(' '*8, ' '*17).translate(str.maketrans({'[': '', ']': '', ',': '', ')': ''})))"
   ]
  }
 ],
 "metadata": {
  "kernelspec": {
   "display_name": "FNO-UNet",
   "language": "python",
   "name": "python3"
  },
  "language_info": {
   "codemirror_mode": {
    "name": "ipython",
    "version": 3
   },
   "file_extension": ".py",
   "mimetype": "text/x-python",
   "name": "python",
   "nbconvert_exporter": "python",
   "pygments_lexer": "ipython3",
   "version": "3.11.11"
  }
 },
 "nbformat": 4,
 "nbformat_minor": 5
}
